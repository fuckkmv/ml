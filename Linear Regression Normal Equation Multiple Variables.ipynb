{
 "cells": [
  {
   "cell_type": "code",
   "execution_count": 18,
   "id": "3b7b2b85",
   "metadata": {},
   "outputs": [],
   "source": [
    "import numpy as np\n",
    "import pandas as pd\n",
    "import matplotlib.pyplot as plt"
   ]
  },
  {
   "cell_type": "code",
   "execution_count": 19,
   "id": "60ada7ca",
   "metadata": {},
   "outputs": [],
   "source": [
    "data = pd.read_csv('USA_Housing.csv')"
   ]
  },
  {
   "cell_type": "code",
   "execution_count": 20,
   "id": "5b869d9f",
   "metadata": {},
   "outputs": [
    {
     "data": {
      "text/html": [
       "<div>\n",
       "<style scoped>\n",
       "    .dataframe tbody tr th:only-of-type {\n",
       "        vertical-align: middle;\n",
       "    }\n",
       "\n",
       "    .dataframe tbody tr th {\n",
       "        vertical-align: top;\n",
       "    }\n",
       "\n",
       "    .dataframe thead th {\n",
       "        text-align: right;\n",
       "    }\n",
       "</style>\n",
       "<table border=\"1\" class=\"dataframe\">\n",
       "  <thead>\n",
       "    <tr style=\"text-align: right;\">\n",
       "      <th></th>\n",
       "      <th>Avg. Area Income</th>\n",
       "      <th>Avg. Area House Age</th>\n",
       "      <th>Avg. Area Number of Rooms</th>\n",
       "      <th>Avg. Area Number of Bedrooms</th>\n",
       "      <th>Area Population</th>\n",
       "      <th>Price</th>\n",
       "      <th>Address</th>\n",
       "    </tr>\n",
       "  </thead>\n",
       "  <tbody>\n",
       "    <tr>\n",
       "      <th>0</th>\n",
       "      <td>79545.458574</td>\n",
       "      <td>5.682861</td>\n",
       "      <td>7.009188</td>\n",
       "      <td>4.09</td>\n",
       "      <td>23086.800503</td>\n",
       "      <td>1.059034e+06</td>\n",
       "      <td>208 Michael Ferry Apt. 674\\nLaurabury, NE 3701...</td>\n",
       "    </tr>\n",
       "    <tr>\n",
       "      <th>1</th>\n",
       "      <td>79248.642455</td>\n",
       "      <td>6.002900</td>\n",
       "      <td>6.730821</td>\n",
       "      <td>3.09</td>\n",
       "      <td>40173.072174</td>\n",
       "      <td>1.505891e+06</td>\n",
       "      <td>188 Johnson Views Suite 079\\nLake Kathleen, CA...</td>\n",
       "    </tr>\n",
       "    <tr>\n",
       "      <th>2</th>\n",
       "      <td>61287.067179</td>\n",
       "      <td>5.865890</td>\n",
       "      <td>8.512727</td>\n",
       "      <td>5.13</td>\n",
       "      <td>36882.159400</td>\n",
       "      <td>1.058988e+06</td>\n",
       "      <td>9127 Elizabeth Stravenue\\nDanieltown, WI 06482...</td>\n",
       "    </tr>\n",
       "    <tr>\n",
       "      <th>3</th>\n",
       "      <td>63345.240046</td>\n",
       "      <td>7.188236</td>\n",
       "      <td>5.586729</td>\n",
       "      <td>3.26</td>\n",
       "      <td>34310.242831</td>\n",
       "      <td>1.260617e+06</td>\n",
       "      <td>USS Barnett\\nFPO AP 44820</td>\n",
       "    </tr>\n",
       "    <tr>\n",
       "      <th>4</th>\n",
       "      <td>59982.197226</td>\n",
       "      <td>5.040555</td>\n",
       "      <td>7.839388</td>\n",
       "      <td>4.23</td>\n",
       "      <td>26354.109472</td>\n",
       "      <td>6.309435e+05</td>\n",
       "      <td>USNS Raymond\\nFPO AE 09386</td>\n",
       "    </tr>\n",
       "  </tbody>\n",
       "</table>\n",
       "</div>"
      ],
      "text/plain": [
       "   Avg. Area Income  Avg. Area House Age  Avg. Area Number of Rooms  \\\n",
       "0      79545.458574             5.682861                   7.009188   \n",
       "1      79248.642455             6.002900                   6.730821   \n",
       "2      61287.067179             5.865890                   8.512727   \n",
       "3      63345.240046             7.188236                   5.586729   \n",
       "4      59982.197226             5.040555                   7.839388   \n",
       "\n",
       "   Avg. Area Number of Bedrooms  Area Population         Price  \\\n",
       "0                          4.09     23086.800503  1.059034e+06   \n",
       "1                          3.09     40173.072174  1.505891e+06   \n",
       "2                          5.13     36882.159400  1.058988e+06   \n",
       "3                          3.26     34310.242831  1.260617e+06   \n",
       "4                          4.23     26354.109472  6.309435e+05   \n",
       "\n",
       "                                             Address  \n",
       "0  208 Michael Ferry Apt. 674\\nLaurabury, NE 3701...  \n",
       "1  188 Johnson Views Suite 079\\nLake Kathleen, CA...  \n",
       "2  9127 Elizabeth Stravenue\\nDanieltown, WI 06482...  \n",
       "3                          USS Barnett\\nFPO AP 44820  \n",
       "4                         USNS Raymond\\nFPO AE 09386  "
      ]
     },
     "execution_count": 20,
     "metadata": {},
     "output_type": "execute_result"
    }
   ],
   "source": [
    "data.head()"
   ]
  },
  {
   "cell_type": "code",
   "execution_count": 21,
   "id": "dda587ab",
   "metadata": {},
   "outputs": [
    {
     "data": {
      "text/plain": [
       "Index(['Avg. Area Income', 'Avg. Area House Age', 'Avg. Area Number of Rooms',\n",
       "       'Avg. Area Number of Bedrooms', 'Area Population', 'Price', 'Address'],\n",
       "      dtype='object')"
      ]
     },
     "execution_count": 21,
     "metadata": {},
     "output_type": "execute_result"
    }
   ],
   "source": [
    "data.columns"
   ]
  },
  {
   "cell_type": "code",
   "execution_count": 22,
   "id": "9ecd19e0",
   "metadata": {},
   "outputs": [],
   "source": [
    "data_pd = pd.DataFrame(data)"
   ]
  },
  {
   "cell_type": "code",
   "execution_count": 23,
   "id": "4393b238",
   "metadata": {},
   "outputs": [],
   "source": [
    "data_pd.columns = ['income','age','#rooms','#bedrooms','population','price','address']"
   ]
  },
  {
   "cell_type": "code",
   "execution_count": 28,
   "id": "23a289cd",
   "metadata": {},
   "outputs": [],
   "source": [
    "data = data_pd"
   ]
  },
  {
   "cell_type": "code",
   "execution_count": 30,
   "id": "d5bd8090",
   "metadata": {},
   "outputs": [],
   "source": [
    "y = data['price']"
   ]
  },
  {
   "cell_type": "code",
   "execution_count": 31,
   "id": "7f715a7e",
   "metadata": {},
   "outputs": [],
   "source": [
    "x = data[['income','age','#rooms','#bedrooms','population']]"
   ]
  },
  {
   "cell_type": "code",
   "execution_count": 32,
   "id": "742a2950",
   "metadata": {},
   "outputs": [],
   "source": [
    "y = np.array(y)"
   ]
  },
  {
   "cell_type": "code",
   "execution_count": 35,
   "id": "bf6e205e",
   "metadata": {},
   "outputs": [
    {
     "data": {
      "text/plain": [
       "5000"
      ]
     },
     "execution_count": 35,
     "metadata": {},
     "output_type": "execute_result"
    }
   ],
   "source": [
    "n = data.shape[0]\n",
    "n # no. of data"
   ]
  },
  {
   "cell_type": "code",
   "execution_count": 36,
   "id": "cdb1656f",
   "metadata": {},
   "outputs": [],
   "source": [
    "x_bias = np.ones((n,1))\n",
    "x_new = x_bias"
   ]
  },
  {
   "cell_type": "code",
   "execution_count": 37,
   "id": "e2f97e10",
   "metadata": {},
   "outputs": [],
   "source": [
    "for(columnName, columnData) in x.iteritems():\n",
    "    temparr = np.array(columnData)\n",
    "    tempNew = temparr.reshape(-1,1)\n",
    "    x_new = np.append(x_new, tempNew, axis=1)"
   ]
  },
  {
   "cell_type": "code",
   "execution_count": 38,
   "id": "f67bd45d",
   "metadata": {},
   "outputs": [
    {
     "data": {
      "text/plain": [
       "array([[1.00000000e+00, 7.95454586e+04, 5.68286132e+00, 7.00918814e+00,\n",
       "        4.09000000e+00, 2.30868005e+04],\n",
       "       [1.00000000e+00, 7.92486425e+04, 6.00289981e+00, 6.73082102e+00,\n",
       "        3.09000000e+00, 4.01730722e+04],\n",
       "       [1.00000000e+00, 6.12870672e+04, 5.86588984e+00, 8.51272743e+00,\n",
       "        5.13000000e+00, 3.68821594e+04],\n",
       "       ...,\n",
       "       [1.00000000e+00, 6.33906869e+04, 7.25059061e+00, 4.80508098e+00,\n",
       "        2.13000000e+00, 3.32661455e+04],\n",
       "       [1.00000000e+00, 6.80013312e+04, 5.53438842e+00, 7.13014386e+00,\n",
       "        5.44000000e+00, 4.26256202e+04],\n",
       "       [1.00000000e+00, 6.55105818e+04, 5.99230531e+00, 6.79233610e+00,\n",
       "        4.07000000e+00, 4.65012838e+04]])"
      ]
     },
     "execution_count": 38,
     "metadata": {},
     "output_type": "execute_result"
    }
   ],
   "source": [
    "x_new"
   ]
  },
  {
   "cell_type": "code",
   "execution_count": 41,
   "id": "cacbe234",
   "metadata": {},
   "outputs": [],
   "source": [
    "x_new_transpose = x_new.T"
   ]
  },
  {
   "cell_type": "code",
   "execution_count": 42,
   "id": "8d69d0c3",
   "metadata": {},
   "outputs": [],
   "source": [
    "x_new_transpose_dot_x_new = np.dot(x_new_transpose,x_new)"
   ]
  },
  {
   "cell_type": "code",
   "execution_count": 43,
   "id": "849e315c",
   "metadata": {},
   "outputs": [
    {
     "data": {
      "text/plain": [
       "array([[ 2.87715060e-02, -1.23722508e-07, -1.24739801e-03,\n",
       "        -1.42122305e-03,  2.65227913e-05, -7.75544612e-08],\n",
       "       [-1.23722508e-07,  1.76306802e-12,  5.17513617e-11,\n",
       "         4.76128750e-10, -4.75851029e-10,  2.94198179e-14],\n",
       "       [-1.24739801e-03,  5.17513617e-11,  2.03619869e-04,\n",
       "         3.09050121e-06, -2.11314129e-06,  3.75652347e-10],\n",
       "       [-1.42122305e-03,  4.76128750e-10,  3.09050121e-06,\n",
       "         2.51811650e-04, -9.51084550e-05, -3.00114739e-10],\n",
       "       [ 2.65227913e-05, -4.75851029e-10, -2.11314129e-06,\n",
       "        -9.51084550e-05,  1.67378640e-04,  4.68752910e-10],\n",
       "       [-7.75544612e-08,  2.94198179e-14,  3.75652347e-10,\n",
       "        -3.00114739e-10,  4.68752910e-10,  2.03305122e-12]])"
      ]
     },
     "execution_count": 43,
     "metadata": {},
     "output_type": "execute_result"
    }
   ],
   "source": [
    "# finding inverse of the matrix\n",
    "temp1 = np.linalg.inv(x_new_transpose_dot_x_new)\n",
    "temp1"
   ]
  },
  {
   "cell_type": "code",
   "execution_count": 44,
   "id": "2c98734d",
   "metadata": {},
   "outputs": [
    {
     "data": {
      "text/plain": [
       "array([6.16036327e+09, 4.34532727e+14, 3.76138778e+10, 4.36433193e+10,\n",
       "       2.48991246e+10, 2.29938746e+14])"
      ]
     },
     "execution_count": 44,
     "metadata": {},
     "output_type": "execute_result"
    }
   ],
   "source": [
    "# finding the dot product of x and y\n",
    "temp2 = np.dot(x_new_transpose,y)\n",
    "temp2"
   ]
  },
  {
   "cell_type": "code",
   "execution_count": 45,
   "id": "9a6b67da",
   "metadata": {},
   "outputs": [
    {
     "data": {
      "text/plain": [
       "array([-2.63729903e+06,  2.15780494e+01,  1.65637027e+05,  1.20659949e+05,\n",
       "        1.65113905e+03,  1.52007439e+01])"
      ]
     },
     "execution_count": 45,
     "metadata": {},
     "output_type": "execute_result"
    }
   ],
   "source": [
    "# finding coefficients\n",
    "theta = np.dot(temp1, temp2)\n",
    "theta"
   ]
  },
  {
   "cell_type": "code",
   "execution_count": 48,
   "id": "cef648b5",
   "metadata": {},
   "outputs": [],
   "source": [
    "def predict_values(theta, test_data):\n",
    "    y = []\n",
    "    for i in test_data.index:\n",
    "        y.append(theta[0])\n",
    "        for idx, column in enumerate(test_data.columns):\n",
    "            y[i] = y[i] + theta[idx+1]*test_data[column][i]\n",
    "    return y"
   ]
  },
  {
   "cell_type": "code",
   "execution_count": 49,
   "id": "27b169a9",
   "metadata": {},
   "outputs": [],
   "source": [
    "xyz = data[['income','age','#rooms','#bedrooms','population']]\n",
    "predicted_y = predict_values(theta,xyz)"
   ]
  },
  {
   "cell_type": "code",
   "execution_count": 50,
   "id": "995cd6f3",
   "metadata": {},
   "outputs": [],
   "source": [
    "error = y - predicted_y\n",
    "absolute_error = np.sum(error)\n",
    "mean_absolute_error = absolute_error/n\n",
    "se = np.sum(error**2)\n",
    "mse = se/n"
   ]
  },
  {
   "cell_type": "code",
   "execution_count": 52,
   "id": "5c5180d5",
   "metadata": {},
   "outputs": [
    {
     "data": {
      "text/plain": [
       "4.259124398231506e-09"
      ]
     },
     "execution_count": 52,
     "metadata": {},
     "output_type": "execute_result"
    }
   ],
   "source": [
    "# mean absolute error\n",
    "mean_absolute_error"
   ]
  },
  {
   "cell_type": "code",
   "execution_count": 53,
   "id": "a5c95e6e",
   "metadata": {},
   "outputs": [
    {
     "data": {
      "text/plain": [
       "10219734313.253004"
      ]
     },
     "execution_count": 53,
     "metadata": {},
     "output_type": "execute_result"
    }
   ],
   "source": [
    "# mean squared error\n",
    "mse"
   ]
  },
  {
   "cell_type": "code",
   "execution_count": 55,
   "id": "470d74f1",
   "metadata": {},
   "outputs": [
    {
     "data": {
      "text/plain": [
       "101092.70158252279"
      ]
     },
     "execution_count": 55,
     "metadata": {},
     "output_type": "execute_result"
    }
   ],
   "source": [
    "# root mean squared error\n",
    "np.sqrt(mse)"
   ]
  }
 ],
 "metadata": {
  "kernelspec": {
   "display_name": "Python 3 (ipykernel)",
   "language": "python",
   "name": "python3"
  },
  "language_info": {
   "codemirror_mode": {
    "name": "ipython",
    "version": 3
   },
   "file_extension": ".py",
   "mimetype": "text/x-python",
   "name": "python",
   "nbconvert_exporter": "python",
   "pygments_lexer": "ipython3",
   "version": "3.10.2"
  }
 },
 "nbformat": 4,
 "nbformat_minor": 5
}
