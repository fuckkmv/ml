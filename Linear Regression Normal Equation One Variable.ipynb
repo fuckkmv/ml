{
 "cells": [
  {
   "cell_type": "code",
   "execution_count": 1,
   "id": "5b0491b0",
   "metadata": {},
   "outputs": [],
   "source": [
    "import numpy as np\n",
    "import matplotlib.pyplot as plt"
   ]
  },
  {
   "cell_type": "code",
   "execution_count": 4,
   "id": "cc41fa4a",
   "metadata": {},
   "outputs": [],
   "source": [
    "x = np.random.randn(20,1)\n",
    "y = np.random.randn(20,1)"
   ]
  },
  {
   "cell_type": "code",
   "execution_count": 5,
   "id": "9a2d88c0",
   "metadata": {},
   "outputs": [],
   "source": [
    "n = np.size(x)"
   ]
  },
  {
   "cell_type": "code",
   "execution_count": 6,
   "id": "6a8fe2d6",
   "metadata": {},
   "outputs": [
    {
     "data": {
      "text/plain": [
       "<matplotlib.collections.PathCollection at 0x1c2e6128d90>"
      ]
     },
     "execution_count": 6,
     "metadata": {},
     "output_type": "execute_result"
    },
    {
     "data": {
      "image/png": "[encoded data removed]",
      "text/plain": [
       "<Figure size 640x480 with 1 Axes>"
      ]
     },
     "metadata": {},
     "output_type": "display_data"
    }
   ],
   "source": [
    "plt.scatter(x,y)"
   ]
  },
  {
   "cell_type": "code",
   "execution_count": 7,
   "id": "2bdb47f0",
   "metadata": {},
   "outputs": [
    {
     "data": {
      "text/plain": [
       "array([[1.],\n",
       "       [1.],\n",
       "       [1.],\n",
       "       [1.],\n",
       "       [1.],\n",
       "       [1.],\n",
       "       [1.],\n",
       "       [1.],\n",
       "       [1.],\n",
       "       [1.],\n",
       "       [1.],\n",
       "       [1.],\n",
       "       [1.],\n",
       "       [1.],\n",
       "       [1.],\n",
       "       [1.],\n",
       "       [1.],\n",
       "       [1.],\n",
       "       [1.],\n",
       "       [1.]])"
      ]
     },
     "execution_count": 7,
     "metadata": {},
     "output_type": "execute_result"
    }
   ],
   "source": [
    "x_bias = np.ones((n,1))\n",
    "x_bias"
   ]
  },
  {
   "cell_type": "code",
   "execution_count": 8,
   "id": "513b409e",
   "metadata": {},
   "outputs": [
    {
     "data": {
      "text/plain": [
       "(20, 1)"
      ]
     },
     "execution_count": 8,
     "metadata": {},
     "output_type": "execute_result"
    }
   ],
   "source": [
    "x.shape"
   ]
  },
  {
   "cell_type": "code",
   "execution_count": 9,
   "id": "44ffd79b",
   "metadata": {},
   "outputs": [
    {
     "data": {
      "text/plain": [
       "(20, 1)"
      ]
     },
     "execution_count": 9,
     "metadata": {},
     "output_type": "execute_result"
    }
   ],
   "source": [
    "x_bias.shape"
   ]
  },
  {
   "cell_type": "code",
   "execution_count": 10,
   "id": "19915ffe",
   "metadata": {},
   "outputs": [
    {
     "data": {
      "text/plain": [
       "array([[ 0.0684804 ],\n",
       "       [-0.90124096],\n",
       "       [-1.63374201],\n",
       "       [ 0.27629498],\n",
       "       [ 2.17558421],\n",
       "       [ 0.16931735],\n",
       "       [-0.78685478],\n",
       "       [-1.22145669],\n",
       "       [-0.60749709],\n",
       "       [-0.72658074],\n",
       "       [ 0.19010907],\n",
       "       [-1.90106214],\n",
       "       [-1.65512855],\n",
       "       [ 1.00948202],\n",
       "       [ 1.53834417],\n",
       "       [ 0.24905406],\n",
       "       [ 0.1751245 ],\n",
       "       [ 0.46120379],\n",
       "       [-0.52697558],\n",
       "       [-0.80813212]])"
      ]
     },
     "execution_count": 10,
     "metadata": {},
     "output_type": "execute_result"
    }
   ],
   "source": [
    "x_new = x.reshape([-1,1])\n",
    "x_new"
   ]
  },
  {
   "cell_type": "code",
   "execution_count": 11,
   "id": "79e69b21",
   "metadata": {},
   "outputs": [],
   "source": [
    "# forming a complete matrix of bias and values"
   ]
  },
  {
   "cell_type": "code",
   "execution_count": 12,
   "id": "7cf4db8f",
   "metadata": {},
   "outputs": [
    {
     "data": {
      "text/plain": [
       "array([[ 1.        ,  0.0684804 ],\n",
       "       [ 1.        , -0.90124096],\n",
       "       [ 1.        , -1.63374201],\n",
       "       [ 1.        ,  0.27629498],\n",
       "       [ 1.        ,  2.17558421],\n",
       "       [ 1.        ,  0.16931735],\n",
       "       [ 1.        , -0.78685478],\n",
       "       [ 1.        , -1.22145669],\n",
       "       [ 1.        , -0.60749709],\n",
       "       [ 1.        , -0.72658074],\n",
       "       [ 1.        ,  0.19010907],\n",
       "       [ 1.        , -1.90106214],\n",
       "       [ 1.        , -1.65512855],\n",
       "       [ 1.        ,  1.00948202],\n",
       "       [ 1.        ,  1.53834417],\n",
       "       [ 1.        ,  0.24905406],\n",
       "       [ 1.        ,  0.1751245 ],\n",
       "       [ 1.        ,  0.46120379],\n",
       "       [ 1.        , -0.52697558],\n",
       "       [ 1.        , -0.80813212]])"
      ]
     },
     "execution_count": 12,
     "metadata": {},
     "output_type": "execute_result"
    }
   ],
   "source": [
    "x_new = np.append(x_bias, x_new, axis=1)\n",
    "x_new"
   ]
  },
  {
   "cell_type": "code",
   "execution_count": 14,
   "id": "e0d3ac74",
   "metadata": {},
   "outputs": [
    {
     "data": {
      "text/plain": [
       "array([[ 1.        ,  1.        ,  1.        ,  1.        ,  1.        ,\n",
       "         1.        ,  1.        ,  1.        ,  1.        ,  1.        ,\n",
       "         1.        ,  1.        ,  1.        ,  1.        ,  1.        ,\n",
       "         1.        ,  1.        ,  1.        ,  1.        ,  1.        ],\n",
       "       [ 0.0684804 , -0.90124096, -1.63374201,  0.27629498,  2.17558421,\n",
       "         0.16931735, -0.78685478, -1.22145669, -0.60749709, -0.72658074,\n",
       "         0.19010907, -1.90106214, -1.65512855,  1.00948202,  1.53834417,\n",
       "         0.24905406,  0.1751245 ,  0.46120379, -0.52697558, -0.80813212]])"
      ]
     },
     "execution_count": 14,
     "metadata": {},
     "output_type": "execute_result"
    }
   ],
   "source": [
    "x_new_transpose = x_new.T\n",
    "x_new_transpose"
   ]
  },
  {
   "cell_type": "code",
   "execution_count": 15,
   "id": "bf9cbdad",
   "metadata": {},
   "outputs": [
    {
     "data": {
      "text/plain": [
       "array([[20.        , -4.45567611],\n",
       "       [-4.45567611, 22.34365312]])"
      ]
     },
     "execution_count": 15,
     "metadata": {},
     "output_type": "execute_result"
    }
   ],
   "source": [
    "x_new_transpose_dot_x_new = np.dot(x_new_transpose, x_new)\n",
    "x_new_transpose_dot_x_new"
   ]
  },
  {
   "cell_type": "code",
   "execution_count": 16,
   "id": "a86df9fb",
   "metadata": {},
   "outputs": [
    {
     "data": {
      "text/plain": [
       "array([[0.0523246 , 0.01043435],\n",
       "       [0.01043435, 0.04683621]])"
      ]
     },
     "execution_count": 16,
     "metadata": {},
     "output_type": "execute_result"
    }
   ],
   "source": [
    "# finding inverse of the matrix\n",
    "temp1 = np.linalg.inv(x_new_transpose_dot_x_new)\n",
    "temp1"
   ]
  },
  {
   "cell_type": "code",
   "execution_count": 17,
   "id": "0d245d70",
   "metadata": {},
   "outputs": [
    {
     "data": {
      "text/plain": [
       "array([[0.36205064],\n",
       "       [2.85903467]])"
      ]
     },
     "execution_count": 17,
     "metadata": {},
     "output_type": "execute_result"
    }
   ],
   "source": [
    "# finding dot product of transposed x and y\n",
    "temp2 = np.dot(x_new_transpose,y)\n",
    "temp2"
   ]
  },
  {
   "cell_type": "code",
   "execution_count": 19,
   "id": "bdee6d5b",
   "metadata": {},
   "outputs": [
    {
     "data": {
      "text/plain": [
       "array([[0.04877632],\n",
       "       [0.13768412]])"
      ]
     },
     "execution_count": 19,
     "metadata": {},
     "output_type": "execute_result"
    }
   ],
   "source": [
    "# finding coefficients\n",
    "theta = np.dot(temp1,temp2)\n",
    "theta"
   ]
  },
  {
   "cell_type": "code",
   "execution_count": 22,
   "id": "ec62d56a",
   "metadata": {},
   "outputs": [
    {
     "name": "stdout",
     "output_type": "stream",
     "text": [
      "Intercept:  [0.04877632] \n",
      "Slope:  [0.13768412]\n"
     ]
    }
   ],
   "source": [
    "intercept = theta[0]\n",
    "slope = theta[1]\n",
    "print(\"Intercept: \", intercept,\"\\nSlope: \",slope)"
   ]
  },
  {
   "cell_type": "code",
   "execution_count": 23,
   "id": "9322c492",
   "metadata": {},
   "outputs": [
    {
     "data": {
      "text/plain": [
       "[<matplotlib.lines.Line2D at 0x1c2e6154d30>]"
      ]
     },
     "execution_count": 23,
     "metadata": {},
     "output_type": "execute_result"
    },
    {
     "data": {
      "image/png": "[encoded data removed]",
      "text/plain": [
       "<Figure size 640x480 with 1 Axes>"
      ]
     },
     "metadata": {},
     "output_type": "display_data"
    }
   ],
   "source": [
    "plt.scatter(x,y)\n",
    "plt.plot(x,slope*x+intercept,color='red')"
   ]
  },
  {
   "cell_type": "code",
   "execution_count": 24,
   "id": "e9e405a2",
   "metadata": {},
   "outputs": [
    {
     "name": "stdout",
     "output_type": "stream",
     "text": [
      "predicted values of y:  [[ 0.05820499]\n",
      " [-0.07531024]\n",
      " [-0.176164  ]\n",
      " [ 0.08681775]\n",
      " [ 0.34831972]\n",
      " [ 0.07208863]\n",
      " [-0.05956108]\n",
      " [-0.11939886]\n",
      " [-0.03486638]\n",
      " [-0.0512623 ]\n",
      " [ 0.07495132]\n",
      " [-0.21296974]\n",
      " [-0.17910859]\n",
      " [ 0.18776596]\n",
      " [ 0.26058188]\n",
      " [ 0.08306711]\n",
      " [ 0.07288819]\n",
      " [ 0.11227676]\n",
      " [-0.02377984]\n",
      " [-0.06249063]]\n"
     ]
    }
   ],
   "source": [
    "# value prediction\n",
    "y_pred = intercept + slope*x\n",
    "print(\"predicted values of y: \", y_pred)"
   ]
  },
  {
   "cell_type": "code",
   "execution_count": 26,
   "id": "6127b12a",
   "metadata": {},
   "outputs": [
    {
     "name": "stdout",
     "output_type": "stream",
     "text": [
      "Mean squared error:  0.8864146785496662\n",
      "Root mean squared error 0.9414959790406257\n"
     ]
    }
   ],
   "source": [
    "error = y - y_pred\n",
    "se = np.sum(error**2)\n",
    "mse = se/n\n",
    "print(\"Mean squared error: \", mse)\n",
    "print(\"Root mean squared error\", np.sqrt(mse))"
   ]
  },
  {
   "cell_type": "code",
   "execution_count": null,
   "id": "3cb3753e",
   "metadata": {},
   "outputs": [],
   "source": []
  }
 ],
 "metadata": {
  "kernelspec": {
   "display_name": "Python 3 (ipykernel)",
   "language": "python",
   "name": "python3"
  },
  "language_info": {
   "codemirror_mode": {
    "name": "ipython",
    "version": 3
   },
   "file_extension": ".py",
   "mimetype": "text/x-python",
   "name": "python",
   "nbconvert_exporter": "python",
   "pygments_lexer": "ipython3",
   "version": "3.10.2"
  }
 },
 "nbformat": 4,
 "nbformat_minor": 5
}
