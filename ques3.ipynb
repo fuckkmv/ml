{
  "nbformat": 4,
  "nbformat_minor": 0,
  "metadata": {
    "colab": {
      "provenance": []
    },
    "kernelspec": {
      "name": "python3",
      "display_name": "Python 3"
    },
    "language_info": {
      "name": "python"
    }
  },
  "cells": [
    {
      "cell_type": "code",
      "execution_count": 39,
      "metadata": {
        "id": "yI2mS8e3ZDC3"
      },
      "outputs": [],
      "source": [
        "import numpy as np\n",
        "import matplotlib.pyplot as plt"
      ]
    },
    {
      "cell_type": "code",
      "source": [
        "x = np.array([4,6,8,2,5])\n",
        "y = np.array([17,23,34,9,13])\n",
        "print(\"Array X: \",x)\n",
        "print(\"Array Y: \",y)"
      ],
      "metadata": {
        "colab": {
          "base_uri": "https://localhost:8080/"
        },
        "id": "19gxp6z0ZcfT",
        "outputId": "1f3b41e1-a7ba-4af7-9694-d65aaac12255"
      },
      "execution_count": 40,
      "outputs": [
        {
          "output_type": "stream",
          "name": "stdout",
          "text": [
            "Array X:  [4 6 8 2 5]\n",
            "Array Y:  [17 23 34  9 13]\n"
          ]
        }
      ]
    },
    {
      "cell_type": "code",
      "source": [
        "m=x.shape[0]\n",
        "x=x.reshape(m,1)\n",
        "ones=np.ones((m,1))\n",
        "x=np.concatenate((ones,x),axis=1)\n",
        "x"
      ],
      "metadata": {
        "colab": {
          "base_uri": "https://localhost:8080/"
        },
        "id": "c9tUn7eTZdiZ",
        "outputId": "39baf198-4ad8-458e-f3e9-ee714468a5db"
      },
      "execution_count": 41,
      "outputs": [
        {
          "output_type": "execute_result",
          "data": {
            "text/plain": [
              "array([[1., 4.],\n",
              "       [1., 6.],\n",
              "       [1., 8.],\n",
              "       [1., 2.],\n",
              "       [1., 5.]])"
            ]
          },
          "metadata": {},
          "execution_count": 41
        }
      ]
    },
    {
      "cell_type": "code",
      "source": [
        "theta=np.dot(np.linalg.inv(np.dot(x.transpose(),x)),np.dot(x.transpose(),y))\n",
        "theta"
      ],
      "metadata": {
        "colab": {
          "base_uri": "https://localhost:8080/"
        },
        "id": "awnHnxAMZyGn",
        "outputId": "10bdda0b-c3d5-4957-a009-bfa4dded8784"
      },
      "execution_count": 43,
      "outputs": [
        {
          "output_type": "execute_result",
          "data": {
            "text/plain": [
              "array([-1.05,  4.05])"
            ]
          },
          "metadata": {},
          "execution_count": 43
        }
      ]
    },
    {
      "cell_type": "code",
      "source": [
        "y_pred=theta[1]*x+theta[0]"
      ],
      "metadata": {
        "id": "kBVrR66bc0ru"
      },
      "execution_count": 44,
      "outputs": []
    },
    {
      "cell_type": "code",
      "source": [],
      "metadata": {
        "id": "2Jd5X_XaeVQn"
      },
      "execution_count": null,
      "outputs": []
    }
  ]
}