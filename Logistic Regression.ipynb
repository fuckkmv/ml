{
 "cells": [
  {
   "cell_type": "code",
   "execution_count": 91,
   "id": "ba7a2a86",
   "metadata": {},
   "outputs": [],
   "source": [
    "import pandas as pd\n",
    "import numpy as np\n",
    "import matplotlib.pyplot as plt\n",
    "from sklearn.datasets import load_breast_cancer"
   ]
  },
  {
   "cell_type": "code",
   "execution_count": 92,
   "id": "156b7711",
   "metadata": {},
   "outputs": [],
   "source": [
    "cancer = load_breast_cancer()\n",
    "x = cancer.data\n",
    "y = cancer.target"
   ]
  },
  {
   "cell_type": "code",
   "execution_count": 93,
   "id": "04ebcee8",
   "metadata": {},
   "outputs": [
    {
     "data": {
      "text/plain": [
       "array([0, 0, 0, 0, 0, 0, 0, 0, 0, 0, 0, 0, 0, 0, 0, 0, 0, 0, 0, 1, 1, 1,\n",
       "       0, 0, 0, 0, 0, 0, 0, 0, 0, 0, 0, 0, 0, 0, 0, 1, 0, 0, 0, 0, 0, 0,\n",
       "       0, 0, 1, 0, 1, 1, 1, 1, 1, 0, 0, 1, 0, 0, 1, 1, 1, 1, 0, 1, 0, 0,\n",
       "       1, 1, 1, 1, 0, 1, 0, 0, 1, 0, 1, 0, 0, 1, 1, 1, 0, 0, 1, 0, 0, 0,\n",
       "       1, 1, 1, 0, 1, 1, 0, 0, 1, 1, 1, 0, 0, 1, 1, 1, 1, 0, 1, 1, 0, 1,\n",
       "       1, 1, 1, 1, 1, 1, 1, 0, 0, 0, 1, 0, 0, 1, 1, 1, 0, 0, 1, 0, 1, 0,\n",
       "       0, 1, 0, 0, 1, 1, 0, 1, 1, 0, 1, 1, 1, 1, 0, 1, 1, 1, 1, 1, 1, 1,\n",
       "       1, 1, 0, 1, 1, 1, 1, 0, 0, 1, 0, 1, 1, 0, 0, 1, 1, 0, 0, 1, 1, 1,\n",
       "       1, 0, 1, 1, 0, 0, 0, 1, 0, 1, 0, 1, 1, 1, 0, 1, 1, 0, 0, 1, 0, 0,\n",
       "       0, 0, 1, 0, 0, 0, 1, 0, 1, 0, 1, 1, 0, 1, 0, 0, 0, 0, 1, 1, 0, 0,\n",
       "       1, 1, 1, 0, 1, 1, 1, 1, 1, 0, 0, 1, 1, 0, 1, 1, 0, 0, 1, 0, 1, 1,\n",
       "       1, 1, 0, 1, 1, 1, 1, 1, 0, 1, 0, 0, 0, 0, 0, 0, 0, 0, 0, 0, 0, 0,\n",
       "       0, 0, 1, 1, 1, 1, 1, 1, 0, 1, 0, 1, 1, 0, 1, 1, 0, 1, 0, 0, 1, 1,\n",
       "       1, 1, 1, 1, 1, 1, 1, 1, 1, 1, 1, 0, 1, 1, 0, 1, 0, 1, 1, 1, 1, 1,\n",
       "       1, 1, 1, 1, 1, 1, 1, 1, 1, 0, 1, 1, 1, 0, 1, 0, 1, 1, 1, 1, 0, 0,\n",
       "       0, 1, 1, 1, 1, 0, 1, 0, 1, 0, 1, 1, 1, 0, 1, 1, 1, 1, 1, 1, 1, 0,\n",
       "       0, 0, 1, 1, 1, 1, 1, 1, 1, 1, 1, 1, 1, 0, 0, 1, 0, 0, 0, 1, 0, 0,\n",
       "       1, 1, 1, 1, 1, 0, 1, 1, 1, 1, 1, 0, 1, 1, 1, 0, 1, 1, 0, 0, 1, 1,\n",
       "       1, 1, 1, 1, 0, 1, 1, 1, 1, 1, 1, 1, 0, 1, 1, 1, 1, 1, 0, 1, 1, 0,\n",
       "       1, 1, 1, 1, 1, 1, 1, 1, 1, 1, 1, 1, 0, 1, 0, 0, 1, 0, 1, 1, 1, 1,\n",
       "       1, 0, 1, 1, 0, 1, 0, 1, 1, 0, 1, 0, 1, 1, 1, 1, 1, 1, 1, 1, 0, 0,\n",
       "       1, 1, 1, 1, 1, 1, 0, 1, 1, 1, 1, 1, 1, 1, 1, 1, 1, 0, 1, 1, 1, 1,\n",
       "       1, 1, 1, 0, 1, 0, 1, 1, 0, 1, 1, 1, 1, 1, 0, 0, 1, 0, 1, 0, 1, 1,\n",
       "       1, 1, 1, 0, 1, 1, 0, 1, 0, 1, 0, 0, 1, 1, 1, 0, 1, 1, 1, 1, 1, 1,\n",
       "       1, 1, 1, 1, 1, 0, 1, 0, 0, 1, 1, 1, 1, 1, 1, 1, 1, 1, 1, 1, 1, 1,\n",
       "       1, 1, 1, 1, 1, 1, 1, 1, 1, 1, 1, 1, 0, 0, 0, 0, 0, 0, 1])"
      ]
     },
     "execution_count": 93,
     "metadata": {},
     "output_type": "execute_result"
    }
   ],
   "source": [
    "y"
   ]
  },
  {
   "cell_type": "code",
   "execution_count": 94,
   "id": "113b6958",
   "metadata": {},
   "outputs": [
    {
     "data": {
      "text/plain": [
       "(569, 30)"
      ]
     },
     "execution_count": 94,
     "metadata": {},
     "output_type": "execute_result"
    }
   ],
   "source": [
    "x.shape"
   ]
  },
  {
   "cell_type": "code",
   "execution_count": 95,
   "id": "3457d632",
   "metadata": {},
   "outputs": [],
   "source": [
    "arr = np.ones((569,1))"
   ]
  },
  {
   "cell_type": "code",
   "execution_count": 96,
   "id": "bd818929",
   "metadata": {},
   "outputs": [],
   "source": [
    "x = np.append(x,arr,axis=1)"
   ]
  },
  {
   "cell_type": "code",
   "execution_count": 97,
   "id": "6e4a04bc",
   "metadata": {},
   "outputs": [
    {
     "data": {
      "text/plain": [
       "(569, 31)"
      ]
     },
     "execution_count": 97,
     "metadata": {},
     "output_type": "execute_result"
    }
   ],
   "source": [
    "x.shape"
   ]
  },
  {
   "cell_type": "code",
   "execution_count": 98,
   "id": "bcd8ce13",
   "metadata": {},
   "outputs": [],
   "source": [
    "x = x.T"
   ]
  },
  {
   "cell_type": "code",
   "execution_count": 99,
   "id": "e6a9991f",
   "metadata": {},
   "outputs": [
    {
     "data": {
      "text/plain": [
       "(31, 569)"
      ]
     },
     "execution_count": 99,
     "metadata": {},
     "output_type": "execute_result"
    }
   ],
   "source": [
    "x.shape"
   ]
  },
  {
   "cell_type": "code",
   "execution_count": 100,
   "id": "66cfc475",
   "metadata": {},
   "outputs": [],
   "source": [
    "# compute hypothesis (sigmoid function)\n",
    "def compute_hypothesis(params,x):\n",
    "    z = np.dot(params.T,x)\n",
    "    predictions = 1/(1+np.exp(-z))\n",
    "    return predictions"
   ]
  },
  {
   "cell_type": "code",
   "execution_count": 101,
   "id": "c22bdb60",
   "metadata": {},
   "outputs": [],
   "source": [
    "# # predict classes\n",
    "# def predict_classes(predictions):\n",
    "#     predicted_classes = np.zeros(len(predictions))\n",
    "#     predicted_classes[np.where(predictions>=0.5)] = 1\n",
    "#     return predicted_classes"
   ]
  },
  {
   "cell_type": "code",
   "execution_count": 102,
   "id": "04c68e0f",
   "metadata": {},
   "outputs": [],
   "source": [
    "# # calculate accuracy\n",
    "# def calculate_accuracy(class_predictions, actual):\n",
    "#     accuracy = (sum(class_predictions==actual)/len(actual))*100\n",
    "#     return accuracy"
   ]
  },
  {
   "cell_type": "code",
   "execution_count": 103,
   "id": "2aa44690",
   "metadata": {},
   "outputs": [],
   "source": [
    "# cost function\n",
    "def compute_cost(predictions, actual):\n",
    "    m = len(actual)\n",
    "    log_of_predictions = np.log(predictions)\n",
    "    log_of_oneMinusPredictions = np.log(1-predictions)\n",
    "    cost = -(1/m)*np.sum(((actual*log_of_predictions)) + \n",
    "                        ((1-actual)*(log_of_oneMinusPredictions))) \n",
    "    return cost"
   ]
  },
  {
   "cell_type": "code",
   "execution_count": 104,
   "id": "ab8f7546",
   "metadata": {},
   "outputs": [],
   "source": [
    "# gradient descent\n",
    "def gradient_descent(x,y,learning_rate,iteration):\n",
    "    actual = y\n",
    "    costs = []\n",
    "    params = np.zeros(x.shape[0])\n",
    "    m = len(actual)\n",
    "    \n",
    "    for i in range(iterations):\n",
    "        predictions = compute_hypothesis(params,x)\n",
    "        costs.append(compute_cost(predictions,actual))\n",
    "        errors = predictions - actual\n",
    "        gradients = (1/m)*np.dot(x,errors)\n",
    "        params = params - (learning_rate*gradients)\n",
    "    \n",
    "    return params, costs"
   ]
  },
  {
   "cell_type": "code",
   "execution_count": 105,
   "id": "85811a5d",
   "metadata": {},
   "outputs": [],
   "source": [
    "learning_rate = 0.00000001\n",
    "iterations = 1000\n",
    "params, costs, accuracies = gradient_descent(x,y,learning_rate, iterations)"
   ]
  },
  {
   "cell_type": "code",
   "execution_count": 106,
   "id": "d9c8eff9",
   "metadata": {},
   "outputs": [
    {
     "data": {
      "text/plain": [
       "[<matplotlib.lines.Line2D at 0x20922882260>]"
      ]
     },
     "execution_count": 106,
     "metadata": {},
     "output_type": "execute_result"
    },
    {
     "data": {
      "image/png": "[encoded data removed]",
      "text/plain": [
       "<Figure size 640x480 with 1 Axes>"
      ]
     },
     "metadata": {},
     "output_type": "display_data"
    }
   ],
   "source": [
    "plt.plot(np.arange(1000),costs)"
   ]
  },
  {
   "cell_type": "code",
   "execution_count": null,
   "id": "cb360e1a",
   "metadata": {},
   "outputs": [],
   "source": []
  }
 ],
 "metadata": {
  "kernelspec": {
   "display_name": "Python 3 (ipykernel)",
   "language": "python",
   "name": "python3"
  },
  "language_info": {
   "codemirror_mode": {
    "name": "ipython",
    "version": 3
   },
   "file_extension": ".py",
   "mimetype": "text/x-python",
   "name": "python",
   "nbconvert_exporter": "python",
   "pygments_lexer": "ipython3",
   "version": "3.10.2"
  }
 },
 "nbformat": 4,
 "nbformat_minor": 5
}
