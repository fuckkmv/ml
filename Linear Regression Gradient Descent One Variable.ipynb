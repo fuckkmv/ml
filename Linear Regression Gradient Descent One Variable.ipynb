{
 "cells": [
  {
   "cell_type": "code",
   "execution_count": 1,
   "metadata": {
    "id": "PiaIa3HZUvl1"
   },
   "outputs": [],
   "source": [
    "# gradient descent for linear regression"
   ]
  },
  {
   "cell_type": "code",
   "execution_count": 2,
   "metadata": {
    "id": "cOy-5k6CVBgO"
   },
   "outputs": [],
   "source": [
    "import pandas as pd\n",
    "import numpy as np\n",
    "from matplotlib import pyplot as plt"
   ]
  },
  {
   "cell_type": "code",
   "execution_count": 3,
   "metadata": {
    "id": "PLW5bhNKVNRI"
   },
   "outputs": [],
   "source": [
    "# initialising parameters"
   ]
  },
  {
   "cell_type": "code",
   "execution_count": 4,
   "metadata": {
    "id": "0ggs4UsXVo4B"
   },
   "outputs": [],
   "source": [
    "x = np.random.randn(20,1)"
   ]
  },
  {
   "cell_type": "code",
   "execution_count": 5,
   "metadata": {
    "id": "KmEqyXGNVslD"
   },
   "outputs": [],
   "source": [
    "y = np.random.randn(20,1)"
   ]
  },
  {
   "cell_type": "code",
   "execution_count": 6,
   "metadata": {
    "id": "chpf4mV6V8o4"
   },
   "outputs": [],
   "source": [
    "# parameters\n",
    "w=0.0\n",
    "b=0.0"
   ]
  },
  {
   "cell_type": "code",
   "execution_count": 7,
   "metadata": {
    "id": "v-voAj1yWBd4"
   },
   "outputs": [],
   "source": [
    "# learning_rate\n",
    "learning_rate = 0.01"
   ]
  },
  {
   "cell_type": "code",
   "execution_count": 8,
   "metadata": {
    "colab": {
     "base_uri": "https://localhost:8080/",
     "height": 282
    },
    "id": "vSKhvXSmWL8X",
    "outputId": "3e124f34-5127-45c7-e188-49670d73e5ad"
   },
   "outputs": [
    {
     "data": {
      "text/plain": [
       "<matplotlib.collections.PathCollection at 0x2a688f48130>"
      ]
     },
     "execution_count": 8,
     "metadata": {},
     "output_type": "execute_result"
    },
    {
     "data": {
      "image/png": "[encoded data removed]",
      "text/plain": [
       "<Figure size 640x480 with 1 Axes>"
      ]
     },
     "metadata": {},
     "output_type": "display_data"
    }
   ],
   "source": [
    "plt.scatter(x,y)"
   ]
  },
  {
   "cell_type": "code",
   "execution_count": 9,
   "metadata": {
    "id": "pjoSGSaWWTeZ"
   },
   "outputs": [],
   "source": [
    "# taking arbitrary parameters w and b\n",
    "w_try = 0.2\n",
    "b_try = 0.42"
   ]
  },
  {
   "cell_type": "code",
   "execution_count": 10,
   "metadata": {
    "colab": {
     "base_uri": "https://localhost:8080/",
     "height": 282
    },
    "id": "7C2XKgT4W4FO",
    "outputId": "39734740-d406-47bc-fba9-5abea87a291f"
   },
   "outputs": [
    {
     "data": {
      "text/plain": [
       "[<matplotlib.lines.Line2D at 0x2a68b1ae260>]"
      ]
     },
     "execution_count": 10,
     "metadata": {},
     "output_type": "execute_result"
    },
    {
     "data": {
      "image/png": "[encoded data removed]",
      "text/plain": [
       "<Figure size 640x480 with 1 Axes>"
      ]
     },
     "metadata": {},
     "output_type": "display_data"
    }
   ],
   "source": [
    "# checking our linear regression thingy with the actual data\n",
    "plt.scatter(x,y)\n",
    "plt.plot(x,w_try*x+b)"
   ]
  },
  {
   "cell_type": "code",
   "execution_count": 11,
   "metadata": {
    "id": "Fr7IEgZdXEXB"
   },
   "outputs": [],
   "source": [
    "# doesn't really fit here"
   ]
  },
  {
   "cell_type": "code",
   "execution_count": 12,
   "metadata": {
    "id": "arjA76pOXHOE"
   },
   "outputs": [],
   "source": [
    "def descend(x,y,w,b,learning_rate):\n",
    "  m = x.shape[0]\n",
    "  ddw=0\n",
    "  ddb=0\n",
    "  i=0\n",
    "  # calculating the partial derivatives\n",
    "  for xi, yi in zip(x,y):\n",
    "    ddw += (1/m)*(w*xi+b-yi)*xi\n",
    "    ddb += (1/m)*(w*xi+b-yi)\n",
    "  \n",
    "  # make an update to the w parameter\n",
    "  w = w - learning_rate*ddw\n",
    "\n",
    "  # make an update to the b parameter\n",
    "  b = b - learning_rate*ddb\n",
    "\n",
    "  return w,b"
   ]
  },
  {
   "cell_type": "code",
   "execution_count": 13,
   "metadata": {
    "id": "1z3p4FbEaa0f"
   },
   "outputs": [],
   "source": [
    "w=0\n",
    "b=0\n",
    "y_pred = []\n",
    "cost = 0\n",
    "old_cost = np.nan\n",
    "cost_values = []\n",
    "w_values = []\n",
    "b_values = []\n",
    "m = x.shape[0]\n",
    "epsilon = 0.00001*3\n",
    "# iteratively make updates\n",
    "for i in range(1000):\n",
    "  w,b = descend(x,y,w,b,learning_rate)\n",
    "\n",
    "  w_values.append(w)\n",
    "  b_values.append(b)\n",
    "\n",
    "  for xi in x:\n",
    "    y_pred.append(w*xi+b) # predicted y values\n",
    "\n",
    "  for yi,y_pred_i in zip(y,y_pred):\n",
    "    cost += ((y_pred_i - yi)**2)/(2*m)\n",
    "    # print(cost)\n",
    "  y_pred = []\n",
    "  # print('-------')\n",
    "  # print(cost)\n",
    "  cost_values.append(cost)\n",
    "  if(i!=0):\n",
    "    if(np.abs(old_cost-cost)<epsilon):\n",
    "      break\n",
    "  \n",
    "  old_cost = cost\n",
    "\n",
    "  \n",
    "  \n",
    "  cost=0"
   ]
  },
  {
   "cell_type": "code",
   "execution_count": 14,
   "metadata": {
    "colab": {
     "base_uri": "https://localhost:8080/"
    },
    "id": "EdjD1TLKdeLq",
    "outputId": "077ee055-640f-499e-d4b3-5d904ab7d15e"
   },
   "outputs": [
    {
     "data": {
      "text/plain": [
       "[array([0.25425514]),\n",
       " array([0.2538564]),\n",
       " array([0.25346875]),\n",
       " array([0.25309188]),\n",
       " array([0.25272548]),\n",
       " array([0.25236927]),\n",
       " array([0.25202296]),\n",
       " array([0.25168628]),\n",
       " array([0.25135895]),\n",
       " array([0.25104073]),\n",
       " array([0.25073134]),\n",
       " array([0.25043056]),\n",
       " array([0.25013813]),\n",
       " array([0.24985383]),\n",
       " array([0.24957743]),\n",
       " array([0.24930871]),\n",
       " array([0.24904746]),\n",
       " array([0.24879346]),\n",
       " array([0.24854653]),\n",
       " array([0.24830645]),\n",
       " array([0.24807304]),\n",
       " array([0.24784611]),\n",
       " array([0.24762549]),\n",
       " array([0.247411]),\n",
       " array([0.24720246]),\n",
       " array([0.24699972]),\n",
       " array([0.2468026]),\n",
       " array([0.24661096]),\n",
       " array([0.24642464]),\n",
       " array([0.2462435]),\n",
       " array([0.24606738]),\n",
       " array([0.24589615]),\n",
       " array([0.24572968]),\n",
       " array([0.24556783]),\n",
       " array([0.24541047]),\n",
       " array([0.24525748]),\n",
       " array([0.24510873]),\n",
       " array([0.24496411]),\n",
       " array([0.24482351]),\n",
       " array([0.24468681]),\n",
       " array([0.2445539]),\n",
       " array([0.24442468]),\n",
       " array([0.24429904]),\n",
       " array([0.24417689]),\n",
       " array([0.24405813]),\n",
       " array([0.24394266]),\n",
       " array([0.24383039]),\n",
       " array([0.24372124]),\n",
       " array([0.24361512]),\n",
       " array([0.24351193]),\n",
       " array([0.24341161]),\n",
       " array([0.24331407]),\n",
       " array([0.24321924]),\n",
       " array([0.24312703]),\n",
       " array([0.24303738]),\n",
       " array([0.24295021]),\n",
       " array([0.24286546]),\n",
       " array([0.24278306]),\n",
       " array([0.24270294]),\n",
       " array([0.24262504]),\n",
       " array([0.2425493]),\n",
       " array([0.24247565]),\n",
       " array([0.24240405]),\n",
       " array([0.24233443]),\n",
       " array([0.24226674]),\n",
       " array([0.24220092]),\n",
       " array([0.24213692]),\n",
       " array([0.2420747]),\n",
       " array([0.2420142]),\n",
       " array([0.24195537]),\n",
       " array([0.24189817]),\n",
       " array([0.24184256]),\n",
       " array([0.24178848]),\n",
       " array([0.2417359]),\n",
       " array([0.24168477]),\n",
       " array([0.24163506]),\n",
       " array([0.24158672]),\n",
       " array([0.24153972]),\n",
       " array([0.24149402]),\n",
       " array([0.24144958]),\n",
       " array([0.24140638]),\n",
       " array([0.24136436]),\n",
       " array([0.24132351]),\n",
       " array([0.24128378]),\n",
       " array([0.24124516]),\n",
       " array([0.2412076]),\n",
       " array([0.24117107]),\n",
       " array([0.24113556]),\n",
       " array([0.24110103]),\n",
       " array([0.24106745]),\n",
       " array([0.2410348]),\n",
       " array([0.24100305]),\n",
       " array([0.24097217]),\n",
       " array([0.24094215]),\n",
       " array([0.24091295])]"
      ]
     },
     "execution_count": 14,
     "metadata": {},
     "output_type": "execute_result"
    }
   ],
   "source": [
    "cost_values"
   ]
  },
  {
   "cell_type": "code",
   "execution_count": 15,
   "metadata": {
    "colab": {
     "base_uri": "https://localhost:8080/",
     "height": 282
    },
    "id": "KTx-tOI1eBOj",
    "outputId": "92dbc865-a5e2-4391-bfc5-e637bfcffc2f"
   },
   "outputs": [
    {
     "data": {
      "text/plain": [
       "[<matplotlib.lines.Line2D at 0x2a68b245300>]"
      ]
     },
     "execution_count": 15,
     "metadata": {},
     "output_type": "execute_result"
    },
    {
     "data": {
      "image/png": "[encoded data removed]",
      "text/plain": [
       "<Figure size 640x480 with 1 Axes>"
      ]
     },
     "metadata": {},
     "output_type": "display_data"
    }
   ],
   "source": [
    "# plotting our linear regression model with the scatter plot of actual data\n",
    "plt.scatter(x,y)\n",
    "plt.plot(x, w*x+b)"
   ]
  },
  {
   "cell_type": "code",
   "execution_count": 16,
   "metadata": {
    "colab": {
     "base_uri": "https://localhost:8080/",
     "height": 282
    },
    "id": "OMSCRXgyeK81",
    "outputId": "7734bab5-44d3-4a86-cfbe-838800523a25"
   },
   "outputs": [
    {
     "data": {
      "text/plain": [
       "[<matplotlib.lines.Line2D at 0x2a68b2a7820>]"
      ]
     },
     "execution_count": 16,
     "metadata": {},
     "output_type": "execute_result"
    },
    {
     "data": {
      "image/png": "[encoded data removed]",
      "text/plain": [
       "<Figure size 640x480 with 1 Axes>"
      ]
     },
     "metadata": {},
     "output_type": "display_data"
    }
   ],
   "source": [
    "plt.plot(np.arange(0,len(cost_values)),cost_values)"
   ]
  },
  {
   "cell_type": "code",
   "execution_count": 17,
   "metadata": {
    "colab": {
     "base_uri": "https://localhost:8080/"
    },
    "id": "XHcwgsI743BZ",
    "outputId": "a6bffe4a-6614-4cd6-e355-636525004914"
   },
   "outputs": [
    {
     "data": {
      "text/plain": [
       "95"
      ]
     },
     "execution_count": 17,
     "metadata": {},
     "output_type": "execute_result"
    }
   ],
   "source": [
    "len(cost_values)"
   ]
  },
  {
   "cell_type": "code",
   "execution_count": null,
   "metadata": {
    "id": "3Vi07hDP453x"
   },
   "outputs": [],
   "source": []
  }
 ],
 "metadata": {
  "colab": {
   "provenance": []
  },
  "kernelspec": {
   "display_name": "Python 3 (ipykernel)",
   "language": "python",
   "name": "python3"
  },
  "language_info": {
   "codemirror_mode": {
    "name": "ipython",
    "version": 3
   },
   "file_extension": ".py",
   "mimetype": "text/x-python",
   "name": "python",
   "nbconvert_exporter": "python",
   "pygments_lexer": "ipython3",
   "version": "3.10.2"
  }
 },
 "nbformat": 4,
 "nbformat_minor": 1
}
