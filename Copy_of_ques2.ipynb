{
  "nbformat": 4,
  "nbformat_minor": 0,
  "metadata": {
    "colab": {
      "provenance": []
    },
    "kernelspec": {
      "name": "python3",
      "display_name": "Python 3"
    },
    "language_info": {
      "name": "python"
    }
  },
  "cells": [
    {
      "cell_type": "code",
      "execution_count": null,
      "metadata": {
        "id": "eQ8HppAhgdb6"
      },
      "outputs": [],
      "source": [
        "import pandas as pd\n",
        "import numpy as np\n",
        "import matplotlib.pyplot as plt\n",
        "from numpy import genfromtxt"
      ]
    },
    {
      "cell_type": "code",
      "source": [
        "data=genfromtxt(\"data.csv\",delimiter=\",\")\n",
        "data"
      ],
      "metadata": {
        "colab": {
          "base_uri": "https://localhost:8080/"
        },
        "id": "_VNTqRldgoBX",
        "outputId": "dcabe6ad-eb8e-4291-e05e-8db2286d6103"
      },
      "execution_count": null,
      "outputs": [
        {
          "output_type": "execute_result",
          "data": {
            "text/plain": [
              "array([[ 0.        ,  3.44      ,  0.44      ,  4.38754501],\n",
              "       [ 0.04040404,  0.1349495 ,  0.88848485,  2.6796499 ],\n",
              "       [ 0.08080808,  0.82989899,  1.3369697 ,  2.96848981],\n",
              "       [ 0.12121212,  1.52484848,  1.78545454,  3.25406475],\n",
              "       [ 0.16161616,  2.21979798,  2.23393939,  3.53637472],\n",
              "       [ 0.2020202 ,  2.91474747,  2.68242424,  3.81541972],\n",
              "       [ 0.24242424,  3.60969697,  3.13090909,  4.09119974],\n",
              "       [ 0.28282828,  0.30464646,  3.57939394,  2.36371479],\n",
              "       [ 0.32323232,  0.99959596,  0.02787879,  3.83296487],\n",
              "       [ 0.36363636,  1.69454546,  0.47636364,  4.09894997],\n",
              "       [ 0.4040404 ,  2.38949495,  0.92484849,  4.3616701 ],\n",
              "       [ 0.44444444,  3.08444444,  1.37333333,  4.62112526],\n",
              "       [ 0.48484848,  3.77939394,  1.82181818,  4.87731544],\n",
              "       [ 0.52525252,  0.47434343,  2.27030303,  3.13024065],\n",
              "       [ 0.56565657,  1.16929293,  2.71878788,  3.37990089],\n",
              "       [ 0.60606061,  1.86424242,  3.16727273,  3.62629616],\n",
              "       [ 0.64646465,  2.55919192,  3.61575758,  3.86942645],\n",
              "       [ 0.68686869,  3.25414141,  0.06424242,  5.30929177],\n",
              "       [ 0.72727273,  3.94909091,  0.51272727,  5.54589212],\n",
              "       [ 0.76767677,  0.6440404 ,  0.96121212,  3.77922749],\n",
              "       [ 0.80808081,  1.3389899 ,  1.40969697,  4.00929789],\n",
              "       [ 0.84848485,  2.03393939,  1.85818182,  4.23610332],\n",
              "       [ 0.88888889,  2.72888889,  2.30666667,  4.45964378],\n",
              "       [ 0.92929293,  3.42383838,  2.75515152,  4.67991926],\n",
              "       [ 0.96969697,  0.11878788,  3.20363636,  2.89692977],\n",
              "       [ 1.01010101,  0.81373737,  3.65212121,  3.1106753 ],\n",
              "       [ 1.05050505,  1.50868687,  0.10060606,  4.52115587],\n",
              "       [ 1.09090909,  2.20363636,  0.54909091,  4.72837146],\n",
              "       [ 1.13131313,  2.89858586,  0.99757576,  4.93232208],\n",
              "       [ 1.17171717,  3.59353535,  1.44606061,  5.13300772],\n",
              "       [ 1.21212121,  0.28848485,  1.89454546,  3.33042839],\n",
              "       [ 1.25252525,  0.98343434,  2.3430303 ,  3.52458409],\n",
              "       [ 1.29292929,  1.67838384,  2.79151515,  3.71547481],\n",
              "       [ 1.33333333,  2.37333333,  3.24      ,  3.90310057],\n",
              "       [ 1.37373737,  3.06828283,  3.68848485,  4.08746135],\n",
              "       [ 1.41414141,  3.76323232,  0.1369697 ,  5.46855715],\n",
              "       [ 1.45454546,  0.45818182,  0.58545455,  3.64638799],\n",
              "       [ 1.49494949,  1.15313131,  1.03393939,  3.82095385],\n",
              "       [ 1.53535354,  1.84808081,  1.48242424,  3.99225473],\n",
              "       [ 1.57575758,  2.5430303 ,  1.93090909,  4.16029065],\n",
              "       [ 1.61616162,  3.2379798 ,  2.37939394,  4.32506159],\n",
              "       [ 1.65656566,  3.93292929,  2.82787879,  4.48656756],\n",
              "       [ 1.6969697 ,  0.62787879,  3.27636364,  2.64480856],\n",
              "       [ 1.73737374,  1.32282828,  3.72484848,  2.79978458],\n",
              "       [ 1.77777778,  2.01777778,  0.17333333,  4.15149563],\n",
              "       [ 1.81818182,  2.71272727,  0.62181818,  4.29994171],\n",
              "       [ 1.85858586,  3.40767677,  1.07030303,  4.44512281],\n",
              "       [ 1.8989899 ,  0.10262626,  1.51878788,  2.58703894],\n",
              "       [ 1.93939394,  0.79757576,  1.96727273,  2.7256901 ],\n",
              "       [ 1.97979798,  1.49252525,  2.41575758,  2.86107628],\n",
              "       [ 2.02020202,  2.18747475,  2.86424242,  2.99319749],\n",
              "       [ 2.06060606,  2.88242424,  3.31272727,  3.12205374],\n",
              "       [ 2.1010101 ,  3.57737374,  3.76121212,  3.247645  ],\n",
              "       [ 2.14141414,  0.27232323,  0.20969697,  2.56997129],\n",
              "       [ 2.18181818,  0.96727273,  0.65818182,  2.68903261],\n",
              "       [ 2.22222222,  1.66222222,  1.10666667,  2.80482896],\n",
              "       [ 2.26262626,  2.35717172,  1.55515151,  2.91736034],\n",
              "       [ 2.3030303 ,  3.05212121,  2.00363636,  3.02662674],\n",
              "       [ 2.34343434,  3.74707071,  2.45212121,  3.13262817],\n",
              "       [ 2.38383838,  0.4420202 ,  2.90060606,  1.23536462],\n",
              "       [ 2.42424242,  1.1369697 ,  3.34909091,  1.3348361 ],\n",
              "       [ 2.46464646,  1.83191919,  3.79757576,  1.43104261],\n",
              "       [ 2.5050505 ,  2.52686869,  0.24606061,  2.72398415],\n",
              "       [ 2.54545455,  3.22181818,  0.69454545,  2.81366071],\n",
              "       [ 2.58585859,  3.91676768,  1.1430303 ,  2.9000723 ],\n",
              "       [ 2.62626263,  0.61171717,  1.59151515,  0.98321892],\n",
              "       [ 2.66666667,  1.30666667,  2.04      ,  1.06310057],\n",
              "       [ 2.70707071,  2.00161616,  2.48848485,  1.13971724],\n",
              "       [ 2.74747475,  2.69656566,  2.9369697 ,  1.21306894],\n",
              "       [ 2.78787879,  3.39151515,  3.38545454,  1.28315566],\n",
              "       [ 2.82828283,  0.08646465,  3.83393939, -0.65002258],\n",
              "       [ 2.86868687,  0.78141414,  0.28242424,  0.6135342 ],\n",
              "       [ 2.90909091,  1.47636364,  0.73090909,  0.673826  ],\n",
              "       [ 2.94949495,  2.17131313,  1.17939394,  0.73085284],\n",
              "       [ 2.98989899,  2.86626263,  1.62787879,  0.7846147 ],\n",
              "       [ 3.03030303,  3.56121212,  2.07636364,  0.83511159],\n",
              "       [ 3.07070707,  0.25616162,  2.52484849, -1.1176565 ],\n",
              "       [ 3.11111111,  0.95111111,  2.97333333, -1.07368956],\n",
              "       [ 3.15151515,  1.64606061,  3.42181818, -1.03298759],\n",
              "       [ 3.19191919,  2.3410101 ,  3.87030303, -0.99555059],\n",
              "       [ 3.23232323,  3.0359596 ,  0.31878788,  0.23862143],\n",
              "       [ 3.27272727,  3.73090909,  0.76727273,  0.26952848],\n",
              "       [ 3.31313131,  0.42585859,  1.21575758, -1.70282944],\n",
              "       [ 3.35353535,  1.12080808,  1.66424242, -1.67845234],\n",
              "       [ 3.39393939,  1.81575758,  2.11272727, -1.6573402 ],\n",
              "       [ 3.43434343,  2.51070707,  2.56121212, -1.63949305],\n",
              "       [ 3.47474748,  3.20565657,  3.00969697, -1.62491086],\n",
              "       [ 3.51515151,  3.90060606,  3.45818182, -1.61359365],\n",
              "       [ 3.55555556,  0.59555556,  3.90666667, -3.60554141],\n",
              "       [ 3.5959596 ,  1.29050505,  0.35515151, -2.40075414],\n",
              "       [ 3.63636364,  1.98545455,  0.80363636, -2.39923185],\n",
              "       [ 3.67676768,  2.68040404,  1.25212121, -2.40097453],\n",
              "       [ 3.71717172,  3.37535353,  1.70060606, -2.40598218],\n",
              "       [ 3.75757576,  0.07030303,  2.14909091, -4.4142548 ],\n",
              "       [ 3.7979798 ,  0.76525252,  2.59757576, -4.4257924 ],\n",
              "       [ 3.83838384,  1.46020202,  3.04606061, -4.44059497],\n",
              "       [ 3.87878788,  2.15515152,  3.49454545, -4.45866252],\n",
              "       [ 3.91919192,  2.85010101,  3.9430303 , -4.47999504],\n",
              "       [ 3.95959596,  3.5450505 ,  0.39151515, -3.30459253],\n",
              "       [ 4.        ,  0.24      ,  0.84      , -5.33245499]])"
            ]
          },
          "metadata": {},
          "execution_count": 40
        }
      ]
    },
    {
      "cell_type": "code",
      "source": [
        "x=data[:,0:3]\n",
        "y=data[:,3]\n",
        "x\n"
      ],
      "metadata": {
        "colab": {
          "base_uri": "https://localhost:8080/"
        },
        "id": "G3wBVwRwhBNS",
        "outputId": "c865034d-f84c-4c97-ce58-efa97a7ec40a"
      },
      "execution_count": null,
      "outputs": [
        {
          "output_type": "execute_result",
          "data": {
            "text/plain": [
              "array([[0.        , 3.44      , 0.44      ],\n",
              "       [0.04040404, 0.1349495 , 0.88848485],\n",
              "       [0.08080808, 0.82989899, 1.3369697 ],\n",
              "       [0.12121212, 1.52484848, 1.78545454],\n",
              "       [0.16161616, 2.21979798, 2.23393939],\n",
              "       [0.2020202 , 2.91474747, 2.68242424],\n",
              "       [0.24242424, 3.60969697, 3.13090909],\n",
              "       [0.28282828, 0.30464646, 3.57939394],\n",
              "       [0.32323232, 0.99959596, 0.02787879],\n",
              "       [0.36363636, 1.69454546, 0.47636364],\n",
              "       [0.4040404 , 2.38949495, 0.92484849],\n",
              "       [0.44444444, 3.08444444, 1.37333333],\n",
              "       [0.48484848, 3.77939394, 1.82181818],\n",
              "       [0.52525252, 0.47434343, 2.27030303],\n",
              "       [0.56565657, 1.16929293, 2.71878788],\n",
              "       [0.60606061, 1.86424242, 3.16727273],\n",
              "       [0.64646465, 2.55919192, 3.61575758],\n",
              "       [0.68686869, 3.25414141, 0.06424242],\n",
              "       [0.72727273, 3.94909091, 0.51272727],\n",
              "       [0.76767677, 0.6440404 , 0.96121212],\n",
              "       [0.80808081, 1.3389899 , 1.40969697],\n",
              "       [0.84848485, 2.03393939, 1.85818182],\n",
              "       [0.88888889, 2.72888889, 2.30666667],\n",
              "       [0.92929293, 3.42383838, 2.75515152],\n",
              "       [0.96969697, 0.11878788, 3.20363636],\n",
              "       [1.01010101, 0.81373737, 3.65212121],\n",
              "       [1.05050505, 1.50868687, 0.10060606],\n",
              "       [1.09090909, 2.20363636, 0.54909091],\n",
              "       [1.13131313, 2.89858586, 0.99757576],\n",
              "       [1.17171717, 3.59353535, 1.44606061],\n",
              "       [1.21212121, 0.28848485, 1.89454546],\n",
              "       [1.25252525, 0.98343434, 2.3430303 ],\n",
              "       [1.29292929, 1.67838384, 2.79151515],\n",
              "       [1.33333333, 2.37333333, 3.24      ],\n",
              "       [1.37373737, 3.06828283, 3.68848485],\n",
              "       [1.41414141, 3.76323232, 0.1369697 ],\n",
              "       [1.45454546, 0.45818182, 0.58545455],\n",
              "       [1.49494949, 1.15313131, 1.03393939],\n",
              "       [1.53535354, 1.84808081, 1.48242424],\n",
              "       [1.57575758, 2.5430303 , 1.93090909],\n",
              "       [1.61616162, 3.2379798 , 2.37939394],\n",
              "       [1.65656566, 3.93292929, 2.82787879],\n",
              "       [1.6969697 , 0.62787879, 3.27636364],\n",
              "       [1.73737374, 1.32282828, 3.72484848],\n",
              "       [1.77777778, 2.01777778, 0.17333333],\n",
              "       [1.81818182, 2.71272727, 0.62181818],\n",
              "       [1.85858586, 3.40767677, 1.07030303],\n",
              "       [1.8989899 , 0.10262626, 1.51878788],\n",
              "       [1.93939394, 0.79757576, 1.96727273],\n",
              "       [1.97979798, 1.49252525, 2.41575758],\n",
              "       [2.02020202, 2.18747475, 2.86424242],\n",
              "       [2.06060606, 2.88242424, 3.31272727],\n",
              "       [2.1010101 , 3.57737374, 3.76121212],\n",
              "       [2.14141414, 0.27232323, 0.20969697],\n",
              "       [2.18181818, 0.96727273, 0.65818182],\n",
              "       [2.22222222, 1.66222222, 1.10666667],\n",
              "       [2.26262626, 2.35717172, 1.55515151],\n",
              "       [2.3030303 , 3.05212121, 2.00363636],\n",
              "       [2.34343434, 3.74707071, 2.45212121],\n",
              "       [2.38383838, 0.4420202 , 2.90060606],\n",
              "       [2.42424242, 1.1369697 , 3.34909091],\n",
              "       [2.46464646, 1.83191919, 3.79757576],\n",
              "       [2.5050505 , 2.52686869, 0.24606061],\n",
              "       [2.54545455, 3.22181818, 0.69454545],\n",
              "       [2.58585859, 3.91676768, 1.1430303 ],\n",
              "       [2.62626263, 0.61171717, 1.59151515],\n",
              "       [2.66666667, 1.30666667, 2.04      ],\n",
              "       [2.70707071, 2.00161616, 2.48848485],\n",
              "       [2.74747475, 2.69656566, 2.9369697 ],\n",
              "       [2.78787879, 3.39151515, 3.38545454],\n",
              "       [2.82828283, 0.08646465, 3.83393939],\n",
              "       [2.86868687, 0.78141414, 0.28242424],\n",
              "       [2.90909091, 1.47636364, 0.73090909],\n",
              "       [2.94949495, 2.17131313, 1.17939394],\n",
              "       [2.98989899, 2.86626263, 1.62787879],\n",
              "       [3.03030303, 3.56121212, 2.07636364],\n",
              "       [3.07070707, 0.25616162, 2.52484849],\n",
              "       [3.11111111, 0.95111111, 2.97333333],\n",
              "       [3.15151515, 1.64606061, 3.42181818],\n",
              "       [3.19191919, 2.3410101 , 3.87030303],\n",
              "       [3.23232323, 3.0359596 , 0.31878788],\n",
              "       [3.27272727, 3.73090909, 0.76727273],\n",
              "       [3.31313131, 0.42585859, 1.21575758],\n",
              "       [3.35353535, 1.12080808, 1.66424242],\n",
              "       [3.39393939, 1.81575758, 2.11272727],\n",
              "       [3.43434343, 2.51070707, 2.56121212],\n",
              "       [3.47474748, 3.20565657, 3.00969697],\n",
              "       [3.51515151, 3.90060606, 3.45818182],\n",
              "       [3.55555556, 0.59555556, 3.90666667],\n",
              "       [3.5959596 , 1.29050505, 0.35515151],\n",
              "       [3.63636364, 1.98545455, 0.80363636],\n",
              "       [3.67676768, 2.68040404, 1.25212121],\n",
              "       [3.71717172, 3.37535353, 1.70060606],\n",
              "       [3.75757576, 0.07030303, 2.14909091],\n",
              "       [3.7979798 , 0.76525252, 2.59757576],\n",
              "       [3.83838384, 1.46020202, 3.04606061],\n",
              "       [3.87878788, 2.15515152, 3.49454545],\n",
              "       [3.91919192, 2.85010101, 3.9430303 ],\n",
              "       [3.95959596, 3.5450505 , 0.39151515],\n",
              "       [4.        , 0.24      , 0.84      ]])"
            ]
          },
          "metadata": {},
          "execution_count": 42
        }
      ]
    },
    {
      "cell_type": "markdown",
      "source": [
        "# New Section"
      ],
      "metadata": {
        "id": "tFN_OBUEl4L6"
      }
    },
    {
      "cell_type": "code",
      "source": [
        "def gradient_multi(x,y,alpha,epoch):\n",
        "   m=x.shape[0]\n",
        "   ones= np.ones((m,1))\n",
        "   x=np.concatenate((ones,x),axis=1)\n",
        "   n=x.shape[1]\n",
        "   theta=np.ones(n)\n",
        "   h=np.dot(x,theta)\n",
        "   \n",
        "   cost=np.ones(epoch)\n",
        "   for i in range(0,epoch):\n",
        "     theta[0]=theta[0]-(alpha/m)*sum(h-y)\n",
        "     for j in range(1,n):\n",
        "      theta[j]=theta[j]-(alpha/m)*sum((h-y)*x[:,j])\n",
        "     h=np.dot(x,theta)\n",
        "     cost[i]=(1/2*m)*sum(np.square(h-y))\n",
        "   return cost, theta"
      ],
      "metadata": {
        "id": "yNHte8oHhWRr"
      },
      "execution_count": null,
      "outputs": []
    },
    {
      "cell_type": "code",
      "source": [
        "cost, theta = gradient_multi(x,y,0.1,2000)\n",
        "theta"
      ],
      "metadata": {
        "colab": {
          "base_uri": "https://localhost:8080/"
        },
        "id": "TXmMmM1oorVw",
        "outputId": "0df88ab5-1ef3-414d-bd21-34f58bc3c4e4"
      },
      "execution_count": null,
      "outputs": [
        {
          "output_type": "execute_result",
          "data": {
            "text/plain": [
              "array([ 5.31416716, -2.00371927,  0.53256334, -0.26560186])"
            ]
          },
          "metadata": {},
          "execution_count": 48
        }
      ]
    },
    {
      "cell_type": "code",
      "source": [
        "X_predict_1= np.array([1,2,0,4])\n",
        "y_predict_1= np.dot(X_predict_1, theta)\n",
        "print(y_predict_1)"
      ],
      "metadata": {
        "colab": {
          "base_uri": "https://localhost:8080/"
        },
        "id": "Moi0aVeeo0KO",
        "outputId": "f56024e5-3f75-4115-abb9-b92e605c050c"
      },
      "execution_count": null,
      "outputs": [
        {
          "output_type": "stream",
          "name": "stdout",
          "text": [
            "0.24432117161660405\n"
          ]
        }
      ]
    },
    {
      "cell_type": "code",
      "source": [],
      "metadata": {
        "colab": {
          "base_uri": "https://localhost:8080/",
          "height": 780
        },
        "id": "yZ0M4SNBrdDR",
        "outputId": "5361c95b-df69-4e1f-8295-923c3e61eefb"
      },
      "execution_count": null,
      "outputs": [
        {
          "output_type": "error",
          "ename": "ValueError",
          "evalue": "ignored",
          "traceback": [
            "\u001b[0;31m---------------------------------------------------------------------------\u001b[0m",
            "\u001b[0;31mValueError\u001b[0m                                Traceback (most recent call last)",
            "\u001b[0;32m<ipython-input-52-c601effe8df5>\u001b[0m in \u001b[0;36m<cell line: 1>\u001b[0;34m()\u001b[0m\n\u001b[0;32m----> 1\u001b[0;31m \u001b[0mplt\u001b[0m\u001b[0;34m.\u001b[0m\u001b[0mplot\u001b[0m\u001b[0;34m(\u001b[0m\u001b[0mX_predict_1\u001b[0m\u001b[0;34m,\u001b[0m\u001b[0my_predict_1\u001b[0m\u001b[0;34m)\u001b[0m\u001b[0;34m\u001b[0m\u001b[0;34m\u001b[0m\u001b[0m\n\u001b[0m",
            "\u001b[0;32m/usr/local/lib/python3.10/dist-packages/matplotlib/pyplot.py\u001b[0m in \u001b[0;36mplot\u001b[0;34m(scalex, scaley, data, *args, **kwargs)\u001b[0m\n\u001b[1;32m   2810\u001b[0m \u001b[0;34m@\u001b[0m\u001b[0m_copy_docstring_and_deprecators\u001b[0m\u001b[0;34m(\u001b[0m\u001b[0mAxes\u001b[0m\u001b[0;34m.\u001b[0m\u001b[0mplot\u001b[0m\u001b[0;34m)\u001b[0m\u001b[0;34m\u001b[0m\u001b[0;34m\u001b[0m\u001b[0m\n\u001b[1;32m   2811\u001b[0m \u001b[0;32mdef\u001b[0m \u001b[0mplot\u001b[0m\u001b[0;34m(\u001b[0m\u001b[0;34m*\u001b[0m\u001b[0margs\u001b[0m\u001b[0;34m,\u001b[0m \u001b[0mscalex\u001b[0m\u001b[0;34m=\u001b[0m\u001b[0;32mTrue\u001b[0m\u001b[0;34m,\u001b[0m \u001b[0mscaley\u001b[0m\u001b[0;34m=\u001b[0m\u001b[0;32mTrue\u001b[0m\u001b[0;34m,\u001b[0m \u001b[0mdata\u001b[0m\u001b[0;34m=\u001b[0m\u001b[0;32mNone\u001b[0m\u001b[0;34m,\u001b[0m \u001b[0;34m**\u001b[0m\u001b[0mkwargs\u001b[0m\u001b[0;34m)\u001b[0m\u001b[0;34m:\u001b[0m\u001b[0;34m\u001b[0m\u001b[0;34m\u001b[0m\u001b[0m\n\u001b[0;32m-> 2812\u001b[0;31m     return gca().plot(\n\u001b[0m\u001b[1;32m   2813\u001b[0m         \u001b[0;34m*\u001b[0m\u001b[0margs\u001b[0m\u001b[0;34m,\u001b[0m \u001b[0mscalex\u001b[0m\u001b[0;34m=\u001b[0m\u001b[0mscalex\u001b[0m\u001b[0;34m,\u001b[0m \u001b[0mscaley\u001b[0m\u001b[0;34m=\u001b[0m\u001b[0mscaley\u001b[0m\u001b[0;34m,\u001b[0m\u001b[0;34m\u001b[0m\u001b[0;34m\u001b[0m\u001b[0m\n\u001b[1;32m   2814\u001b[0m         **({\"data\": data} if data is not None else {}), **kwargs)\n",
            "\u001b[0;32m/usr/local/lib/python3.10/dist-packages/matplotlib/axes/_axes.py\u001b[0m in \u001b[0;36mplot\u001b[0;34m(self, scalex, scaley, data, *args, **kwargs)\u001b[0m\n\u001b[1;32m   1686\u001b[0m         \"\"\"\n\u001b[1;32m   1687\u001b[0m         \u001b[0mkwargs\u001b[0m \u001b[0;34m=\u001b[0m \u001b[0mcbook\u001b[0m\u001b[0;34m.\u001b[0m\u001b[0mnormalize_kwargs\u001b[0m\u001b[0;34m(\u001b[0m\u001b[0mkwargs\u001b[0m\u001b[0;34m,\u001b[0m \u001b[0mmlines\u001b[0m\u001b[0;34m.\u001b[0m\u001b[0mLine2D\u001b[0m\u001b[0;34m)\u001b[0m\u001b[0;34m\u001b[0m\u001b[0;34m\u001b[0m\u001b[0m\n\u001b[0;32m-> 1688\u001b[0;31m         \u001b[0mlines\u001b[0m \u001b[0;34m=\u001b[0m \u001b[0;34m[\u001b[0m\u001b[0;34m*\u001b[0m\u001b[0mself\u001b[0m\u001b[0;34m.\u001b[0m\u001b[0m_get_lines\u001b[0m\u001b[0;34m(\u001b[0m\u001b[0;34m*\u001b[0m\u001b[0margs\u001b[0m\u001b[0;34m,\u001b[0m \u001b[0mdata\u001b[0m\u001b[0;34m=\u001b[0m\u001b[0mdata\u001b[0m\u001b[0;34m,\u001b[0m \u001b[0;34m**\u001b[0m\u001b[0mkwargs\u001b[0m\u001b[0;34m)\u001b[0m\u001b[0;34m]\u001b[0m\u001b[0;34m\u001b[0m\u001b[0;34m\u001b[0m\u001b[0m\n\u001b[0m\u001b[1;32m   1689\u001b[0m         \u001b[0;32mfor\u001b[0m \u001b[0mline\u001b[0m \u001b[0;32min\u001b[0m \u001b[0mlines\u001b[0m\u001b[0;34m:\u001b[0m\u001b[0;34m\u001b[0m\u001b[0;34m\u001b[0m\u001b[0m\n\u001b[1;32m   1690\u001b[0m             \u001b[0mself\u001b[0m\u001b[0;34m.\u001b[0m\u001b[0madd_line\u001b[0m\u001b[0;34m(\u001b[0m\u001b[0mline\u001b[0m\u001b[0;34m)\u001b[0m\u001b[0;34m\u001b[0m\u001b[0;34m\u001b[0m\u001b[0m\n",
            "\u001b[0;32m/usr/local/lib/python3.10/dist-packages/matplotlib/axes/_base.py\u001b[0m in \u001b[0;36m__call__\u001b[0;34m(self, data, *args, **kwargs)\u001b[0m\n\u001b[1;32m    309\u001b[0m                 \u001b[0mthis\u001b[0m \u001b[0;34m+=\u001b[0m \u001b[0margs\u001b[0m\u001b[0;34m[\u001b[0m\u001b[0;36m0\u001b[0m\u001b[0;34m]\u001b[0m\u001b[0;34m,\u001b[0m\u001b[0;34m\u001b[0m\u001b[0;34m\u001b[0m\u001b[0m\n\u001b[1;32m    310\u001b[0m                 \u001b[0margs\u001b[0m \u001b[0;34m=\u001b[0m \u001b[0margs\u001b[0m\u001b[0;34m[\u001b[0m\u001b[0;36m1\u001b[0m\u001b[0;34m:\u001b[0m\u001b[0;34m]\u001b[0m\u001b[0;34m\u001b[0m\u001b[0;34m\u001b[0m\u001b[0m\n\u001b[0;32m--> 311\u001b[0;31m             yield from self._plot_args(\n\u001b[0m\u001b[1;32m    312\u001b[0m                 this, kwargs, ambiguous_fmt_datakey=ambiguous_fmt_datakey)\n\u001b[1;32m    313\u001b[0m \u001b[0;34m\u001b[0m\u001b[0m\n",
            "\u001b[0;32m/usr/local/lib/python3.10/dist-packages/matplotlib/axes/_base.py\u001b[0m in \u001b[0;36m_plot_args\u001b[0;34m(self, tup, kwargs, return_kwargs, ambiguous_fmt_datakey)\u001b[0m\n\u001b[1;32m    502\u001b[0m \u001b[0;34m\u001b[0m\u001b[0m\n\u001b[1;32m    503\u001b[0m         \u001b[0;32mif\u001b[0m \u001b[0mx\u001b[0m\u001b[0;34m.\u001b[0m\u001b[0mshape\u001b[0m\u001b[0;34m[\u001b[0m\u001b[0;36m0\u001b[0m\u001b[0;34m]\u001b[0m \u001b[0;34m!=\u001b[0m \u001b[0my\u001b[0m\u001b[0;34m.\u001b[0m\u001b[0mshape\u001b[0m\u001b[0;34m[\u001b[0m\u001b[0;36m0\u001b[0m\u001b[0;34m]\u001b[0m\u001b[0;34m:\u001b[0m\u001b[0;34m\u001b[0m\u001b[0;34m\u001b[0m\u001b[0m\n\u001b[0;32m--> 504\u001b[0;31m             raise ValueError(f\"x and y must have same first dimension, but \"\n\u001b[0m\u001b[1;32m    505\u001b[0m                              f\"have shapes {x.shape} and {y.shape}\")\n\u001b[1;32m    506\u001b[0m         \u001b[0;32mif\u001b[0m \u001b[0mx\u001b[0m\u001b[0;34m.\u001b[0m\u001b[0mndim\u001b[0m \u001b[0;34m>\u001b[0m \u001b[0;36m2\u001b[0m \u001b[0;32mor\u001b[0m \u001b[0my\u001b[0m\u001b[0;34m.\u001b[0m\u001b[0mndim\u001b[0m \u001b[0;34m>\u001b[0m \u001b[0;36m2\u001b[0m\u001b[0;34m:\u001b[0m\u001b[0;34m\u001b[0m\u001b[0;34m\u001b[0m\u001b[0m\n",
            "\u001b[0;31mValueError\u001b[0m: x and y must have same first dimension, but have shapes (4,) and (1,)"
          ]
        },
        {
          "output_type": "display_data",
          "data": {
            "text/plain": [
              "<Figure size 640x480 with 1 Axes>"
            ],
            "image/png": "[encoded data removed]"
          },
          "metadata": {}
        }
      ]
    },
    {
      "cell_type": "code",
      "source": [],
      "metadata": {
        "id": "P1RyPfTZr6aF"
      },
      "execution_count": null,
      "outputs": []
    }
  ]
}