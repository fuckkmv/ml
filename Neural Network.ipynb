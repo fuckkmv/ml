{
 "cells": [
  {
   "cell_type": "code",
   "execution_count": 13,
   "id": "4cae8ed2",
   "metadata": {},
   "outputs": [],
   "source": [
    "# https://www.youtube.com/watch?v=-AOQieESISw - for neural network code explanation (holdout used in this video)\n",
    "# cross validation used in the code below"
   ]
  },
  {
   "cell_type": "code",
   "execution_count": 11,
   "id": "6089abbb",
   "metadata": {},
   "outputs": [],
   "source": [
    "import pandas as pd\n",
    "import numpy as np\n",
    "from sklearn.model_selection import KFold, cross_val_score\n",
    "from sklearn.datasets import load_breast_cancer"
   ]
  },
  {
   "cell_type": "code",
   "execution_count": 3,
   "id": "a576d66c",
   "metadata": {},
   "outputs": [],
   "source": [
    "cancer = load_breast_cancer()\n",
    "x = cancer.data\n",
    "y = cancer.target"
   ]
  },
  {
   "cell_type": "code",
   "execution_count": 5,
   "id": "158f8a12",
   "metadata": {},
   "outputs": [],
   "source": [
    "from sklearn.neural_network import MLPClassifier\n",
    "MLP = MLPClassifier(hidden_layer_sizes=(10,10,10), max_iter = 1000)"
   ]
  },
  {
   "cell_type": "code",
   "execution_count": 6,
   "id": "ecacdfb9",
   "metadata": {},
   "outputs": [],
   "source": [
    "kf = KFold(n_splits = 10, shuffle = True)"
   ]
  },
  {
   "cell_type": "code",
   "execution_count": 7,
   "id": "e15d4601",
   "metadata": {},
   "outputs": [],
   "source": [
    "score = cross_val_score(MLP,x,y,cv = kf)"
   ]
  },
  {
   "cell_type": "code",
   "execution_count": 8,
   "id": "5163709f",
   "metadata": {},
   "outputs": [
    {
     "data": {
      "text/plain": [
       "array([0.9122807 , 0.92982456, 0.92982456, 0.9122807 , 0.87719298,\n",
       "       0.96491228, 0.9122807 , 0.94736842, 0.96491228, 0.92857143])"
      ]
     },
     "execution_count": 8,
     "metadata": {},
     "output_type": "execute_result"
    }
   ],
   "source": [
    "score"
   ]
  },
  {
   "cell_type": "code",
   "execution_count": 10,
   "id": "63f069c2",
   "metadata": {},
   "outputs": [
    {
     "data": {
      "text/plain": [
       "92.79448621553887"
      ]
     },
     "execution_count": 10,
     "metadata": {},
     "output_type": "execute_result"
    }
   ],
   "source": [
    "score.mean()*100 # checking accuracy"
   ]
  }
 ],
 "metadata": {
  "kernelspec": {
   "display_name": "Python 3 (ipykernel)",
   "language": "python",
   "name": "python3"
  },
  "language_info": {
   "codemirror_mode": {
    "name": "ipython",
    "version": 3
   },
   "file_extension": ".py",
   "mimetype": "text/x-python",
   "name": "python",
   "nbconvert_exporter": "python",
   "pygments_lexer": "ipython3",
   "version": "3.10.2"
  }
 },
 "nbformat": 4,
 "nbformat_minor": 5
}
